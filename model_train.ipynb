{
 "cells": [
  {
   "cell_type": "code",
   "execution_count": 2,
   "metadata": {
    "scrolled": true
   },
   "outputs": [],
   "source": [
    "import os\n",
    "import matplotlib.pyplot as plt\n",
    "from collections import Counter\n",
    "import numpy as np\n",
    "import tensorflow as tf"
   ]
  },
  {
   "cell_type": "markdown",
   "metadata": {},
   "source": [
    "# 读取数据，构造训练集和测试集"
   ]
  },
  {
   "cell_type": "code",
   "execution_count": 3,
   "metadata": {},
   "outputs": [],
   "source": [
    "def load_data():\n",
    "    # 读取数据\n",
    "    x = np.load('train_data/train_data.npy')\n",
    "    y = np.load('train_data/label.npy')\n",
    "    num = len(Counter(y))\n",
    "    print(\"类别数量为：\", num)\n",
    "    return x, y, num"
   ]
  },
  {
   "cell_type": "code",
   "execution_count": 4,
   "metadata": {},
   "outputs": [],
   "source": [
    "def create_train_data(x, y, ratio=0.8):\n",
    "    \"\"\"\n",
    "    x:数据\n",
    "    y:类别\n",
    "    ratio:生成训练集比率\n",
    "    \"\"\"\n",
    "    # 打乱顺序\n",
    "    # 读取data矩阵的第一维数（图片的个数）\n",
    "    num_example = x.shape[0]\n",
    "    # 产生一个num_example范围，步长为1的序列\n",
    "    arr = np.arange(num_example)\n",
    "    # 调用函数，打乱顺序\n",
    "    np.random.seed(99)\n",
    "    np.random.shuffle(arr)\n",
    "    # 按照打乱的顺序，重新排序\n",
    "    arr_data = x[arr]\n",
    "    arr_label = y[arr]\n",
    "    # 将数据集分为训练集80%、测试集20%\n",
    "    s = int(num_example * ratio)\n",
    "    x_train = arr_data[:s]\n",
    "    y_train = arr_label[:s]\n",
    "    x_val = arr_data[s:]\n",
    "    y_val = arr_label[s:]\n",
    "    print(\"训练集shape\", x_train.shape)\n",
    "    print(\"训练集类别：\", Counter(y_train))\n",
    "    print(\"测试集shape\", x_val.shape)\n",
    "    print(\"测试集类别：\", Counter(y_val))\n",
    "    return x_train, y_train, x_val, y_val"
   ]
  },
  {
   "cell_type": "code",
   "execution_count": 5,
   "metadata": {},
   "outputs": [
    {
     "name": "stdout",
     "output_type": "stream",
     "text": [
      "类别数量为： 4\n",
      "训练集shape (3919, 1000, 2)\n",
      "训练集类别： Counter({0: 989, 2: 987, 3: 979, 1: 964})\n",
      "测试集shape (1681, 1000, 2)\n",
      "测试集类别： Counter({1: 436, 3: 421, 2: 413, 0: 411})\n",
      "**********\n",
      "训练集数量： 3919\n",
      "测试集数量： 1681\n"
     ]
    }
   ],
   "source": [
    "# 读取数据\n",
    "data, label, label_count = load_data()\n",
    "# 生成训练集测试集,70%用作训练，30%用作测试\n",
    "train_data, train_label, val_data, val_label = create_train_data(data, label, 0.7)\n",
    "print(\"*\"*10)\n",
    "print(\"训练集数量：\",len(train_label))\n",
    "print(\"测试集数量：\",len(val_label))"
   ]
  },
  {
   "cell_type": "markdown",
   "metadata": {},
   "source": [
    "# 数据集构建"
   ]
  },
  {
   "cell_type": "code",
   "execution_count": 6,
   "metadata": {},
   "outputs": [],
   "source": [
    "# 使用机器学习算法需要对多维数据进行降维\n",
    "m_train = train_data.reshape(train_data.shape[0],train_data.shape[1]*train_data.shape[2])\n",
    "m_val = val_data.reshape(val_data.shape[0],val_data.shape[1]*val_data.shape[2])\n",
    "\n",
    "# 设置训练迭代次数\n",
    "epoch = 20"
   ]
  },
  {
   "cell_type": "markdown",
   "metadata": {},
   "source": [
    "# 随机森林"
   ]
  },
  {
   "cell_type": "code",
   "execution_count": 7,
   "metadata": {},
   "outputs": [],
   "source": [
    "from sklearn.ensemble import RandomForestClassifier\n",
    "from sklearn.metrics import roc_curve,roc_auc_score,classification_report,accuracy_score,log_loss\n",
    "from sklearn.model_selection import GridSearchCV,train_test_split\n",
    "from sklearn import model_selection\n",
    "from sklearn.preprocessing import  OneHotEncoder"
   ]
  },
  {
   "cell_type": "markdown",
   "metadata": {},
   "source": [
    "## 模型训练"
   ]
  },
  {
   "cell_type": "code",
   "execution_count": 9,
   "metadata": {},
   "outputs": [
    {
     "name": "stdout",
     "output_type": "stream",
     "text": [
      "开始训练\n",
      "完成第 1 轮训练，测试集准确率： 0.739\n",
      "完成第 2 轮训练，测试集准确率： 0.72\n",
      "完成第 3 轮训练，测试集准确率： 0.736\n",
      "完成第 4 轮训练，测试集准确率： 0.746\n",
      "完成第 5 轮训练，测试集准确率： 0.729\n",
      "完成第 6 轮训练，测试集准确率： 0.723\n",
      "完成第 7 轮训练，测试集准确率： 0.742\n",
      "完成第 8 轮训练，测试集准确率： 0.745\n",
      "完成第 9 轮训练，测试集准确率： 0.736\n",
      "完成第 10 轮训练，测试集准确率： 0.714\n",
      "完成第 11 轮训练，测试集准确率： 0.725\n",
      "完成第 12 轮训练，测试集准确率： 0.735\n",
      "完成第 13 轮训练，测试集准确率： 0.732\n",
      "完成第 14 轮训练，测试集准确率： 0.726\n",
      "完成第 15 轮训练，测试集准确率： 0.75\n",
      "完成第 16 轮训练，测试集准确率： 0.723\n",
      "完成第 17 轮训练，测试集准确率： 0.736\n",
      "完成第 18 轮训练，测试集准确率： 0.72\n",
      "完成第 19 轮训练，测试集准确率： 0.719\n",
      "完成第 20 轮训练，测试集准确率： 0.727\n"
     ]
    }
   ],
   "source": [
    "# 模型参数设置\n",
    "rfc = RandomForestClassifier(n_estimators = 50,min_samples_split = 5,min_samples_leaf = 4,max_depth = 5)\n",
    "\n",
    "# 模型准确率和损失值\n",
    "acc_list = []\n",
    "loss_list = []\n",
    "train_acc_list = []\n",
    "print(\"开始训练\")\n",
    "for i in range(1,epoch +1):\n",
    "\n",
    "    # 模型训练\n",
    "    rfc.fit(m_train,train_label)\n",
    "\n",
    "    # # 训练集\n",
    "    # y_train = rfc.predict(m_train)\n",
    "\n",
    "    # 测试集\n",
    "    y_pred = np.asarray(rfc.predict(m_val),dtype = 'int64')\n",
    "\n",
    "    # 计算准确率\n",
    "    acc = round(accuracy_score(val_label, y_pred),3)\n",
    "    \n",
    "    # 训练集\n",
    "    y_pred = np.asarray(rfc.predict(m_train),dtype = 'int64')\n",
    "    # 计算准确率\n",
    "    train_acc = round(accuracy_score(train_label, y_pred),3)\n",
    "    \n",
    "    # print('测试集准确率:', round(accuracy_score(val_label, y_pred),3))\n",
    "    acc_list.append(acc)\n",
    "    train_acc_list.append(train_acc)\n",
    "    \n",
    "    # 计算损失值\n",
    "    # 使用one-hot编码计算损失值\n",
    "    noe_hot = OneHotEncoder(sparse = False)\n",
    "\n",
    "    y_pred_o = noe_hot.fit_transform(y_pred.reshape(1, -1))\n",
    "    val_label_o = noe_hot.fit_transform(val_label.reshape(1, -1))\n",
    "#     loss = round(log_loss(val_label_o,y_pred_o),3)\n",
    "    # print(\"loss：\",round(log_loss(val_label,y_pred),3))\n",
    "#     loss_list.append(loss)\n",
    "    print(\"完成第\",i,\"轮训练，测试集准确率：\",acc)"
   ]
  },
  {
   "cell_type": "markdown",
   "metadata": {},
   "source": [
    "## 测试集得分"
   ]
  },
  {
   "cell_type": "code",
   "execution_count": 11,
   "metadata": {},
   "outputs": [
    {
     "name": "stdout",
     "output_type": "stream",
     "text": [
      "------------------测试集上得分：------------------------\n",
      "*****\n",
      "测试集准确率得分: 0.727\n",
      "*****\n",
      "准确率、召回率、f1-值测试报告如下:\n",
      "               precision    recall  f1-score   support\n",
      "\n",
      "           0       0.84      1.00      0.91       411\n",
      "           1       0.71      0.75      0.73       436\n",
      "           2       0.56      0.42      0.48       413\n",
      "           3       0.73      0.73      0.73       421\n",
      "\n",
      "    accuracy                           0.73      1681\n",
      "   macro avg       0.71      0.73      0.71      1681\n",
      "weighted avg       0.71      0.73      0.71      1681\n",
      "\n"
     ]
    }
   ],
   "source": [
    "y_pred = np.asarray(rfc.predict(m_val),dtype = 'int64')\n",
    "print('------------------测试集上得分：------------------------')\n",
    "print('*' * 5)\n",
    "print('测试集准确率得分:', round(accuracy_score(val_label, y_pred),3))\n",
    "print('*' * 5)\n",
    "print('准确率、召回率、f1-值测试报告如下:\\n', classification_report(val_label, y_pred))"
   ]
  },
  {
   "cell_type": "markdown",
   "metadata": {},
   "source": [
    "## 模型迭代准确率"
   ]
  },
  {
   "cell_type": "code",
   "execution_count": 10,
   "metadata": {
    "scrolled": false
   },
   "outputs": [
    {
     "data": {
      "image/png": "[encoded data removed]",
      "text/plain": [
       "<Figure size 432x288 with 1 Axes>"
      ]
     },
     "metadata": {
      "needs_background": "light"
     },
     "output_type": "display_data"
    }
   ],
   "source": [
    "# 设置Y轴范围\n",
    "plt.ylim(0,1)\n",
    "# 训练准确率曲线\n",
    "show_data1 = train_acc_list\n",
    "# 测试准确率曲线\n",
    "show_data2 = acc_list\n",
    "x_data = list(range(1,len(show_data1)+1))\n",
    "ln1, = plt.plot(x_data,show_data1,color='blue',linewidth=2.0,linestyle='--')\n",
    "ln2, = plt.plot(x_data,show_data2,color='red',linewidth=3.0,linestyle='-.')\n",
    "plt.legend(handles=[ln1,ln2],labels=['train_acc','val_acc'])\n",
    "plt.show()"
   ]
  },
  {
   "cell_type": "markdown",
   "metadata": {},
   "source": [
    "## 保存模型"
   ]
  },
  {
   "cell_type": "code",
   "execution_count": 12,
   "metadata": {},
   "outputs": [
    {
     "data": {
      "text/plain": [
       "['models_save/rfc.joblib']"
      ]
     },
     "execution_count": 12,
     "metadata": {},
     "output_type": "execute_result"
    }
   ],
   "source": [
    "from joblib import dump, load\n",
    "# 保存模型\n",
    "dump(rfc, 'models_save/rfc.joblib') \n",
    "# # 加载\n",
    "# rfc = load('models_save/rfc.joblib')\n",
    "# print(rfc)"
   ]
  },
  {
   "cell_type": "markdown",
   "metadata": {},
   "source": [
    "# CNN"
   ]
  },
  {
   "cell_type": "code",
   "execution_count": 14,
   "metadata": {},
   "outputs": [
    {
     "name": "stdout",
     "output_type": "stream",
     "text": [
      "True\n"
     ]
    }
   ],
   "source": [
    "from tensorflow import keras\n",
    "from tensorflow.keras import layers, models\n",
    "# 查看GPU是否可用\n",
    "print(tf.test.is_gpu_available())"
   ]
  },
  {
   "cell_type": "markdown",
   "metadata": {},
   "source": [
    "## 网络构建"
   ]
  },
  {
   "cell_type": "code",
   "execution_count": 15,
   "metadata": {},
   "outputs": [],
   "source": [
    "def cnn_create():\n",
    "    loss = 'sparse_categorical_crossentropy'\n",
    "    metrics = ['acc']\n",
    "    inputs = keras.Input(shape=(1000, 2))\n",
    "    x = layers.Conv1D(64, 3, activation='relu')(inputs)\n",
    "    x = layers.MaxPooling1D(16)(x)\n",
    "    # 全局平均池化GAP层\n",
    "    x = layers.GlobalAveragePooling1D()(x)\n",
    "    # 几个密集分类层\n",
    "    x = layers.Dense(32, activation='relu')(x)\n",
    "    # 退出层\n",
    "    x = layers.Dropout(0.5)(x)\n",
    "    outputs = layers.Dense(4, activation='softmax')(x)\n",
    "    model = keras.Model(inputs, outputs)\n",
    "    model.compile(optimizer=keras.optimizers.Adam(0.001),\n",
    "                  loss=loss,\n",
    "                  metrics=metrics)\n",
    "    print(\"实例化模型成功，参数如下：\")\n",
    "    print(model.summary())\n",
    "    return model"
   ]
  },
  {
   "cell_type": "code",
   "execution_count": 16,
   "metadata": {},
   "outputs": [
    {
     "name": "stdout",
     "output_type": "stream",
     "text": [
      "实例化模型成功，参数如下：\n",
      "_________________________________________________________________\n",
      "Layer (type)                 Output Shape              Param #   \n",
      "=================================================================\n",
      "input_1 (InputLayer)         (None, 1000, 2)           0         \n",
      "_________________________________________________________________\n",
      "conv1d (Conv1D)              (None, 998, 64)           448       \n",
      "_________________________________________________________________\n",
      "max_pooling1d (MaxPooling1D) (None, 62, 64)            0         \n",
      "_________________________________________________________________\n",
      "global_average_pooling1d (Gl (None, 64)                0         \n",
      "_________________________________________________________________\n",
      "dense (Dense)                (None, 32)                2080      \n",
      "_________________________________________________________________\n",
      "dropout (Dropout)            (None, 32)                0         \n",
      "_________________________________________________________________\n",
      "dense_1 (Dense)              (None, 4)                 132       \n",
      "=================================================================\n",
      "Total params: 2,660\n",
      "Trainable params: 2,660\n",
      "Non-trainable params: 0\n",
      "_________________________________________________________________\n",
      "None\n"
     ]
    }
   ],
   "source": [
    "# 实例化模型\n",
    "cnn_model = cnn_create()\n",
    "\n",
    "# 设置模型log输出地址\n",
    "log_dir = os.path.join(\"logs/CNN\")\n",
    "if not os.path.exists(log_dir):\n",
    "    os.mkdir(log_dir)"
   ]
  },
  {
   "cell_type": "markdown",
   "metadata": {},
   "source": [
    "## 模型训练"
   ]
  },
  {
   "cell_type": "code",
   "execution_count": 17,
   "metadata": {
    "scrolled": true
   },
   "outputs": [
    {
     "name": "stdout",
     "output_type": "stream",
     "text": [
      "Train on 3135 samples, validate on 784 samples\n",
      "Epoch 1/20\n",
      "3135/3135 [==============================] - 4s 1ms/step - loss: 1.3742 - acc: 0.3049 - val_loss: 1.3435 - val_acc: 0.5370\n",
      "Epoch 2/20\n",
      "3135/3135 [==============================] - 2s 722us/step - loss: 1.2788 - acc: 0.4488 - val_loss: 1.1898 - val_acc: 0.6314\n",
      "Epoch 3/20\n",
      "3135/3135 [==============================] - 2s 735us/step - loss: 1.0881 - acc: 0.5324 - val_loss: 0.9532 - val_acc: 0.5268\n",
      "Epoch 4/20\n",
      "3135/3135 [==============================] - 2s 739us/step - loss: 0.9389 - acc: 0.5796 - val_loss: 0.8356 - val_acc: 0.6811\n",
      "Epoch 5/20\n",
      "3135/3135 [==============================] - 2s 732us/step - loss: 0.8709 - acc: 0.5949 - val_loss: 0.7638 - val_acc: 0.7028\n",
      "Epoch 6/20\n",
      "3135/3135 [==============================] - 2s 723us/step - loss: 0.8067 - acc: 0.6322 - val_loss: 0.7125 - val_acc: 0.7538\n",
      "Epoch 7/20\n",
      "3135/3135 [==============================] - 2s 744us/step - loss: 0.7589 - acc: 0.6501 - val_loss: 0.6725 - val_acc: 0.7589\n",
      "Epoch 8/20\n",
      "3135/3135 [==============================] - 2s 718us/step - loss: 0.7109 - acc: 0.6759 - val_loss: 0.6336 - val_acc: 0.7691\n",
      "Epoch 9/20\n",
      "3135/3135 [==============================] - 2s 701us/step - loss: 0.6890 - acc: 0.6922 - val_loss: 0.6019 - val_acc: 0.7806\n",
      "Epoch 10/20\n",
      "3135/3135 [==============================] - 2s 704us/step - loss: 0.6509 - acc: 0.7129 - val_loss: 0.5962 - val_acc: 0.7653\n",
      "Epoch 11/20\n",
      "3135/3135 [==============================] - 2s 715us/step - loss: 0.6329 - acc: 0.7212 - val_loss: 0.5658 - val_acc: 0.8023\n",
      "Epoch 12/20\n",
      "3135/3135 [==============================] - 2s 703us/step - loss: 0.6163 - acc: 0.7311 - val_loss: 0.5390 - val_acc: 0.8176\n",
      "Epoch 13/20\n",
      "3135/3135 [==============================] - 2s 697us/step - loss: 0.6065 - acc: 0.7343 - val_loss: 0.5255 - val_acc: 0.7934\n",
      "Epoch 14/20\n",
      "3135/3135 [==============================] - 2s 694us/step - loss: 0.5975 - acc: 0.7295 - val_loss: 0.5019 - val_acc: 0.7819\n",
      "Epoch 15/20\n",
      "3135/3135 [==============================] - 2s 696us/step - loss: 0.5729 - acc: 0.7448 - val_loss: 0.4969 - val_acc: 0.8087\n",
      "Epoch 16/20\n",
      "3135/3135 [==============================] - 2s 675us/step - loss: 0.5654 - acc: 0.7410 - val_loss: 0.4672 - val_acc: 0.8163\n",
      "Epoch 17/20\n",
      "3135/3135 [==============================] - 2s 687us/step - loss: 0.5463 - acc: 0.7550 - val_loss: 0.4539 - val_acc: 0.8074\n",
      "Epoch 18/20\n",
      "3135/3135 [==============================] - 2s 683us/step - loss: 0.5426 - acc: 0.7534 - val_loss: 0.4545 - val_acc: 0.8099\n",
      "Epoch 19/20\n",
      "3135/3135 [==============================] - 2s 678us/step - loss: 0.5191 - acc: 0.7671 - val_loss: 0.4334 - val_acc: 0.8087\n",
      "Epoch 20/20\n",
      "3135/3135 [==============================] - 2s 677us/step - loss: 0.5117 - acc: 0.7707 - val_loss: 0.4223 - val_acc: 0.8087\n"
     ]
    }
   ],
   "source": [
    "# 模型训练\n",
    "tensorboard_callback = tf.keras.callbacks.TensorBoard(log_dir=log_dir, histogram_freq=1)\n",
    "history = cnn_model.fit(train_data, train_label,epochs=20, batch_size=16, validation_split=0.2,callbacks=[tensorboard_callback])"
   ]
  },
  {
   "cell_type": "markdown",
   "metadata": {},
   "source": [
    "## 模型预测"
   ]
  },
  {
   "cell_type": "code",
   "execution_count": 18,
   "metadata": {},
   "outputs": [
    {
     "name": "stdout",
     "output_type": "stream",
     "text": [
      "*****完成预处理，进行模型评估*****\n"
     ]
    }
   ],
   "source": [
    "from sklearn.metrics import roc_curve,roc_auc_score,classification_report,accuracy_score,log_loss\n",
    "print(\"*****完成预处理，进行模型评估*****\")\n",
    "y_pred = cnn_model.predict(val_data)\n",
    "y_pred = [np.argmax(x) for x in y_pred]"
   ]
  },
  {
   "cell_type": "markdown",
   "metadata": {},
   "source": [
    "## 测试集得分"
   ]
  },
  {
   "cell_type": "code",
   "execution_count": 19,
   "metadata": {},
   "outputs": [
    {
     "name": "stdout",
     "output_type": "stream",
     "text": [
      "------------------测试集上得分：------------------------\n",
      "*****\n",
      "测试集准确率得分: 0.833\n",
      "*****\n",
      "准确率、召回率、f1-值测试报告如下:\n",
      "               precision    recall  f1-score   support\n",
      "\n",
      "           0       1.00      1.00      1.00       411\n",
      "           1       0.71      0.94      0.81       436\n",
      "           2       0.76      0.48      0.59       413\n",
      "           3       0.89      0.90      0.89       421\n",
      "\n",
      "    accuracy                           0.83      1681\n",
      "   macro avg       0.84      0.83      0.82      1681\n",
      "weighted avg       0.84      0.83      0.82      1681\n",
      "\n"
     ]
    }
   ],
   "source": [
    "print('------------------测试集上得分：------------------------')\n",
    "print('*' * 5)\n",
    "print('测试集准确率得分:', round(accuracy_score(val_label, y_pred),3))\n",
    "print('*' * 5)\n",
    "print('准确率、召回率、f1-值测试报告如下:\\n', classification_report(val_label, y_pred))"
   ]
  },
  {
   "cell_type": "markdown",
   "metadata": {},
   "source": [
    "## 模型迭代准确率"
   ]
  },
  {
   "cell_type": "code",
   "execution_count": 20,
   "metadata": {},
   "outputs": [
    {
     "data": {
      "image/png": "[encoded data removed]",
      "text/plain": [
       "<Figure size 432x288 with 1 Axes>"
      ]
     },
     "metadata": {
      "needs_background": "light"
     },
     "output_type": "display_data"
    }
   ],
   "source": [
    "# 设置Y轴范围\n",
    "plt.ylim(0,1)\n",
    "# 训练准确率曲线\n",
    "show_data1 = history.history['acc']\n",
    "# 测试准确率曲线\n",
    "show_data2 = history.history['val_acc']\n",
    "x_data = list(range(1,len(show_data1)+1))\n",
    "ln1, = plt.plot(x_data,show_data1,color='blue',linewidth=2.0,linestyle='--')\n",
    "ln2, = plt.plot(x_data,show_data2,color='red',linewidth=3.0,linestyle='-.')\n",
    "plt.legend(handles=[ln1,ln2],labels=['train_acc','val_acc'])\n",
    "plt.show()"
   ]
  },
  {
   "cell_type": "markdown",
   "metadata": {},
   "source": [
    "## 保存模型"
   ]
  },
  {
   "cell_type": "code",
   "execution_count": 21,
   "metadata": {},
   "outputs": [
    {
     "name": "stdout",
     "output_type": "stream",
     "text": [
      "完成模型训练，保存地址： models_save/cnn_model.h5\n"
     ]
    }
   ],
   "source": [
    "# 保存模型\n",
    "model_path = 'models_save/cnn_model.h5'\n",
    "cnn_model.save(model_path)\n",
    "print(\"完成模型训练，保存地址：\", model_path)"
   ]
  },
  {
   "cell_type": "markdown",
   "metadata": {},
   "source": [
    "# CNN+ResNet"
   ]
  },
  {
   "cell_type": "markdown",
   "metadata": {},
   "source": [
    "## 网络构建"
   ]
  },
  {
   "cell_type": "code",
   "execution_count": 8,
   "metadata": {
    "scrolled": true
   },
   "outputs": [
    {
     "name": "stdout",
     "output_type": "stream",
     "text": [
      "实例化模型成功，网络结构如下：\n",
      "__________________________________________________________________________________________________\n",
      "Layer (type)                    Output Shape         Param #     Connected to                     \n",
      "==================================================================================================\n",
      "input_1 (InputLayer)            (None, 1000, 2)      0                                            \n",
      "__________________________________________________________________________________________________\n",
      "conv1d (Conv1D)                 (None, 998, 32)      224         input_1[0][0]                    \n",
      "__________________________________________________________________________________________________\n",
      "conv1d_1 (Conv1D)               (None, 996, 64)      6208        conv1d[0][0]                     \n",
      "__________________________________________________________________________________________________\n",
      "max_pooling1d (MaxPooling1D)    (None, 62, 64)       0           conv1d_1[0][0]                   \n",
      "__________________________________________________________________________________________________\n",
      "conv1d_2 (Conv1D)               (None, 62, 64)       12352       max_pooling1d[0][0]              \n",
      "__________________________________________________________________________________________________\n",
      "batch_normalization (BatchNorma (None, 62, 64)       256         conv1d_2[0][0]                   \n",
      "__________________________________________________________________________________________________\n",
      "conv1d_3 (Conv1D)               (None, 62, 64)       12352       batch_normalization[0][0]        \n",
      "__________________________________________________________________________________________________\n",
      "batch_normalization_1 (BatchNor (None, 62, 64)       256         conv1d_3[0][0]                   \n",
      "__________________________________________________________________________________________________\n",
      "add (Add)                       (None, 62, 64)       0           batch_normalization_1[0][0]      \n",
      "                                                                 max_pooling1d[0][0]              \n",
      "__________________________________________________________________________________________________\n",
      "activation (Activation)         (None, 62, 64)       0           add[0][0]                        \n",
      "__________________________________________________________________________________________________\n",
      "conv1d_4 (Conv1D)               (None, 62, 64)       12352       activation[0][0]                 \n",
      "__________________________________________________________________________________________________\n",
      "batch_normalization_2 (BatchNor (None, 62, 64)       256         conv1d_4[0][0]                   \n",
      "__________________________________________________________________________________________________\n",
      "conv1d_5 (Conv1D)               (None, 62, 64)       12352       batch_normalization_2[0][0]      \n",
      "__________________________________________________________________________________________________\n",
      "batch_normalization_3 (BatchNor (None, 62, 64)       256         conv1d_5[0][0]                   \n",
      "__________________________________________________________________________________________________\n",
      "add_1 (Add)                     (None, 62, 64)       0           batch_normalization_3[0][0]      \n",
      "                                                                 activation[0][0]                 \n",
      "__________________________________________________________________________________________________\n",
      "activation_1 (Activation)       (None, 62, 64)       0           add_1[0][0]                      \n",
      "__________________________________________________________________________________________________\n",
      "conv1d_6 (Conv1D)               (None, 62, 64)       12352       activation_1[0][0]               \n",
      "__________________________________________________________________________________________________\n",
      "batch_normalization_4 (BatchNor (None, 62, 64)       256         conv1d_6[0][0]                   \n",
      "__________________________________________________________________________________________________\n",
      "conv1d_7 (Conv1D)               (None, 62, 64)       12352       batch_normalization_4[0][0]      \n",
      "__________________________________________________________________________________________________\n",
      "batch_normalization_5 (BatchNor (None, 62, 64)       256         conv1d_7[0][0]                   \n",
      "__________________________________________________________________________________________________\n",
      "add_2 (Add)                     (None, 62, 64)       0           batch_normalization_5[0][0]      \n",
      "                                                                 activation_1[0][0]               \n",
      "__________________________________________________________________________________________________\n",
      "activation_2 (Activation)       (None, 62, 64)       0           add_2[0][0]                      \n",
      "__________________________________________________________________________________________________\n",
      "conv1d_8 (Conv1D)               (None, 62, 64)       12352       activation_2[0][0]               \n",
      "__________________________________________________________________________________________________\n",
      "batch_normalization_6 (BatchNor (None, 62, 64)       256         conv1d_8[0][0]                   \n",
      "__________________________________________________________________________________________________\n",
      "conv1d_9 (Conv1D)               (None, 62, 64)       12352       batch_normalization_6[0][0]      \n",
      "__________________________________________________________________________________________________\n",
      "batch_normalization_7 (BatchNor (None, 62, 64)       256         conv1d_9[0][0]                   \n",
      "__________________________________________________________________________________________________\n",
      "add_3 (Add)                     (None, 62, 64)       0           batch_normalization_7[0][0]      \n",
      "                                                                 activation_2[0][0]               \n",
      "__________________________________________________________________________________________________\n",
      "activation_3 (Activation)       (None, 62, 64)       0           add_3[0][0]                      \n",
      "__________________________________________________________________________________________________\n",
      "conv1d_10 (Conv1D)              (None, 62, 64)       12352       activation_3[0][0]               \n",
      "__________________________________________________________________________________________________\n",
      "batch_normalization_8 (BatchNor (None, 62, 64)       256         conv1d_10[0][0]                  \n",
      "__________________________________________________________________________________________________\n",
      "conv1d_11 (Conv1D)              (None, 62, 64)       12352       batch_normalization_8[0][0]      \n",
      "__________________________________________________________________________________________________\n",
      "batch_normalization_9 (BatchNor (None, 62, 64)       256         conv1d_11[0][0]                  \n",
      "__________________________________________________________________________________________________\n",
      "add_4 (Add)                     (None, 62, 64)       0           batch_normalization_9[0][0]      \n",
      "                                                                 activation_3[0][0]               \n",
      "__________________________________________________________________________________________________\n",
      "activation_4 (Activation)       (None, 62, 64)       0           add_4[0][0]                      \n",
      "__________________________________________________________________________________________________\n",
      "conv1d_12 (Conv1D)              (None, 60, 64)       12352       activation_4[0][0]               \n",
      "__________________________________________________________________________________________________\n",
      "global_average_pooling1d (Globa (None, 64)           0           conv1d_12[0][0]                  \n",
      "__________________________________________________________________________________________________\n",
      "dense (Dense)                   (None, 256)          16640       global_average_pooling1d[0][0]   \n",
      "__________________________________________________________________________________________________\n",
      "dropout (Dropout)               (None, 256)          0           dense[0][0]                      \n",
      "__________________________________________________________________________________________________\n",
      "dense_1 (Dense)                 (None, 4)            1028        dropout[0][0]                    \n",
      "==================================================================================================\n",
      "Total params: 162,532\n",
      "Trainable params: 161,252\n",
      "Non-trainable params: 1,280\n",
      "__________________________________________________________________________________________________\n",
      "None\n"
     ]
    }
   ],
   "source": [
    "import n_model as md\n",
    "import tensorflow as tf\n",
    "# 模型参数\n",
    "model_param = {\n",
    "    \"a_shape\": 1000,\n",
    "    \"b_shape\": 2,\n",
    "    \"label_count\": 4,\n",
    "    \"num_b\":5\n",
    "}\n",
    "\n",
    "data_shape=(model_param['a_shape'],model_param['b_shape'])\n",
    "# 模型实例化\n",
    "model = md.CNN_ResNet_model(model_param['label_count'] , model_param['num_b'] , data_shape=data_shape)\n",
    "# 使用学习率进行训练\n",
    "res_model = model.model_create(learning_rate = 1e-4)\n",
    "# 模型网络结构\n",
    "print(\"实例化模型成功，网络结构如下：\")\n",
    "print(res_model.summary())\n",
    "# 设置模型log输出地址\n",
    "log_dir = os.path.join(\"logs/ResNet\")\n",
    "if not os.path.exists(log_dir):\n",
    "    os.mkdir(log_dir)"
   ]
  },
  {
   "cell_type": "markdown",
   "metadata": {},
   "source": [
    "## 模型训练"
   ]
  },
  {
   "cell_type": "code",
   "execution_count": 9,
   "metadata": {
    "scrolled": true
   },
   "outputs": [
    {
     "name": "stdout",
     "output_type": "stream",
     "text": [
      "Train on 3135 samples, validate on 784 samples\n",
      "Epoch 1/20\n",
      "3135/3135 [==============================] - 6s 2ms/step - loss: 0.8823 - acc: 0.6325 - val_loss: 1.5962 - val_acc: 0.2666\n",
      "Epoch 2/20\n",
      "3135/3135 [==============================] - 3s 1ms/step - loss: 0.1656 - acc: 0.9563 - val_loss: 2.8148 - val_acc: 0.2666\n",
      "Epoch 3/20\n",
      "3135/3135 [==============================] - 3s 1ms/step - loss: 0.0494 - acc: 0.9879 - val_loss: 3.4395 - val_acc: 0.2666\n",
      "Epoch 4/20\n",
      "3135/3135 [==============================] - 3s 1ms/step - loss: 0.0241 - acc: 0.9939 - val_loss: 3.9536 - val_acc: 0.2666\n",
      "Epoch 5/20\n",
      "3135/3135 [==============================] - 3s 1ms/step - loss: 0.0142 - acc: 0.9978 - val_loss: 2.5615 - val_acc: 0.2742\n",
      "Epoch 6/20\n",
      "3135/3135 [==============================] - 3s 1ms/step - loss: 0.0130 - acc: 0.9965 - val_loss: 0.0560 - val_acc: 0.9821\n",
      "Epoch 7/20\n",
      "3135/3135 [==============================] - 3s 1ms/step - loss: 0.0104 - acc: 0.9978 - val_loss: 0.0403 - val_acc: 0.9834\n",
      "Epoch 8/20\n",
      "3135/3135 [==============================] - 3s 1ms/step - loss: 0.0098 - acc: 0.9971 - val_loss: 0.0017 - val_acc: 1.0000\n",
      "Epoch 9/20\n",
      "3135/3135 [==============================] - 3s 1ms/step - loss: 0.0050 - acc: 0.9994 - val_loss: 1.3139 - val_acc: 0.8788\n",
      "Epoch 10/20\n",
      "3135/3135 [==============================] - 3s 1ms/step - loss: 0.0037 - acc: 0.9997 - val_loss: 0.0070 - val_acc: 0.9974\n",
      "Epoch 11/20\n",
      "3135/3135 [==============================] - 3s 1ms/step - loss: 0.0133 - acc: 0.9959 - val_loss: 0.5425 - val_acc: 0.8712\n",
      "Epoch 12/20\n",
      "3135/3135 [==============================] - 3s 1ms/step - loss: 0.0043 - acc: 0.9990 - val_loss: 1.4373 - val_acc: 0.8087\n",
      "Epoch 13/20\n",
      "3135/3135 [==============================] - 3s 1ms/step - loss: 0.0103 - acc: 0.9971 - val_loss: 0.3762 - val_acc: 0.9133\n",
      "Epoch 14/20\n",
      "3135/3135 [==============================] - 3s 1000us/step - loss: 0.0064 - acc: 0.9987 - val_loss: 0.1017 - val_acc: 0.9592\n",
      "Epoch 15/20\n",
      "3135/3135 [==============================] - 3s 999us/step - loss: 0.0065 - acc: 0.9974 - val_loss: 0.0687 - val_acc: 0.9707\n",
      "Epoch 16/20\n",
      "3135/3135 [==============================] - 3s 1ms/step - loss: 0.0047 - acc: 0.9994 - val_loss: 0.0018 - val_acc: 1.0000\n",
      "Epoch 17/20\n",
      "3135/3135 [==============================] - 3s 1ms/step - loss: 0.0042 - acc: 0.9981 - val_loss: 0.0380 - val_acc: 0.9847\n",
      "Epoch 18/20\n",
      "3135/3135 [==============================] - 3s 1ms/step - loss: 0.0047 - acc: 0.9990 - val_loss: 0.0965 - val_acc: 0.9643\n",
      "Epoch 19/20\n",
      "3135/3135 [==============================] - 3s 1ms/step - loss: 0.0071 - acc: 0.9981 - val_loss: 0.7238 - val_acc: 0.8571\n",
      "Epoch 20/20\n",
      "3135/3135 [==============================] - 3s 1ms/step - loss: 0.0046 - acc: 0.9987 - val_loss: 0.0252 - val_acc: 0.9872\n"
     ]
    }
   ],
   "source": [
    "# 模型训练\n",
    "tensorboard_callback = tf.keras.callbacks.TensorBoard(log_dir=log_dir, histogram_freq=1)\n",
    "history = res_model.fit(train_data, train_label,epochs=20, batch_size=32, validation_split=0.2,callbacks=[tensorboard_callback])"
   ]
  },
  {
   "cell_type": "markdown",
   "metadata": {},
   "source": [
    "## 测试集得分"
   ]
  },
  {
   "cell_type": "code",
   "execution_count": 11,
   "metadata": {},
   "outputs": [
    {
     "name": "stdout",
     "output_type": "stream",
     "text": [
      "*****完成预处理，进行模型评估*****\n",
      "------------------测试集上得分：------------------------\n",
      "*****\n",
      "测试集准确率得分: 0.989\n",
      "*****\n",
      "准确率、召回率、f1-值测试报告如下:\n",
      "               precision    recall  f1-score   support\n",
      "\n",
      "           0       1.00      1.00      1.00       411\n",
      "           1       0.96      1.00      0.98       436\n",
      "           2       1.00      0.95      0.98       413\n",
      "           3       1.00      1.00      1.00       421\n",
      "\n",
      "    accuracy                           0.99      1681\n",
      "   macro avg       0.99      0.99      0.99      1681\n",
      "weighted avg       0.99      0.99      0.99      1681\n",
      "\n"
     ]
    }
   ],
   "source": [
    "from sklearn.metrics import roc_curve,roc_auc_score,classification_report,accuracy_score,log_loss\n",
    "print(\"*****完成预处理，进行模型评估*****\")\n",
    "y_pred = res_model.predict(val_data)\n",
    "y_pred = [np.argmax(x) for x in y_pred]\n",
    "print('------------------测试集上得分：------------------------')\n",
    "print('*' * 5)\n",
    "print('测试集准确率得分:', round(accuracy_score(val_label, y_pred),3))\n",
    "print('*' * 5)\n",
    "print('准确率、召回率、f1-值测试报告如下:\\n', classification_report(val_label, y_pred))"
   ]
  },
  {
   "cell_type": "markdown",
   "metadata": {},
   "source": [
    "## 模型迭代准确率"
   ]
  },
  {
   "cell_type": "code",
   "execution_count": 12,
   "metadata": {},
   "outputs": [
    {
     "data": {
      "image/png": "[encoded data removed]",
      "text/plain": [
       "<Figure size 432x288 with 1 Axes>"
      ]
     },
     "metadata": {
      "needs_background": "light"
     },
     "output_type": "display_data"
    }
   ],
   "source": [
    "# 设置Y轴范围\n",
    "plt.ylim(0,1)\n",
    "# 训练准确率曲线\n",
    "show_data1 = history.history['acc']\n",
    "# 测试准确率曲线\n",
    "show_data2 = history.history['val_acc']\n",
    "x_data = list(range(1,len(show_data1)+1))\n",
    "ln1, = plt.plot(x_data,show_data1,color='blue',linewidth=2.0,linestyle='--')\n",
    "ln2, = plt.plot(x_data,show_data2,color='red',linewidth=3.0,linestyle='-.')\n",
    "plt.legend(handles=[ln1,ln2],labels=['train_acc','val_acc'])\n",
    "plt.show()"
   ]
  },
  {
   "cell_type": "markdown",
   "metadata": {},
   "source": [
    "## 保存模型"
   ]
  },
  {
   "cell_type": "code",
   "execution_count": 14,
   "metadata": {},
   "outputs": [
    {
     "name": "stdout",
     "output_type": "stream",
     "text": [
      "完成模型训练，保存地址： models_save/cnn_resnet_model.h5\n"
     ]
    }
   ],
   "source": [
    "# 保存模型\n",
    "model_path = 'models_save/cnn_resnet_model.h5'\n",
    "res_model.save(model_path)\n",
    "print(\"完成模型训练，保存地址：\", model_path)"
   ]
  },
  {
   "cell_type": "markdown",
   "metadata": {},
   "source": [
    "# 最终三个模型准确率结果得分如下："
   ]
  },
  {
   "cell_type": "markdown",
   "metadata": {},
   "source": [
    "## 随机森林-准确率得分：0.727"
   ]
  },
  {
   "cell_type": "markdown",
   "metadata": {},
   "source": [
    "## CNN-准确率得分：0.833"
   ]
  },
  {
   "cell_type": "markdown",
   "metadata": {},
   "source": [
    "## CNN+ResNet-准确率得分：0.989"
   ]
  }
 ],
 "metadata": {
  "kernelspec": {
   "display_name": "Python [conda env:ai_clone]",
   "language": "python",
   "name": "conda-env-ai_clone-py"
  },
  "language_info": {
   "codemirror_mode": {
    "name": "ipython",
    "version": 3
   },
   "file_extension": ".py",
   "mimetype": "text/x-python",
   "name": "python",
   "nbconvert_exporter": "python",
   "pygments_lexer": "ipython3",
   "version": "3.6.12"
  },
  "toc": {
   "base_numbering": 1,
   "nav_menu": {},
   "number_sections": true,
   "sideBar": true,
   "skip_h1_title": false,
   "title_cell": "Table of Contents",
   "title_sidebar": "Contents",
   "toc_cell": false,
   "toc_position": {
    "height": "calc(100% - 180px)",
    "left": "10px",
    "top": "150px",
    "width": "209px"
   },
   "toc_section_display": true,
   "toc_window_display": true
  }
 },
 "nbformat": 4,
 "nbformat_minor": 2
}
